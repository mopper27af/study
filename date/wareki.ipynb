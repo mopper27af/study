{
 "cells": [
  {
   "cell_type": "markdown",
   "metadata": {},
   "source": [
    "# 和暦⇒西暦変換\n",
    "HYY.MM.DD  \n",
    "平成YY.MM.DD \n",
    "平成YY/MM/DD  \n",
    "などの形式に対応\n"
   ]
  },
  {
   "cell_type": "code",
   "execution_count": 1,
   "metadata": {},
   "outputs": [],
   "source": [
    "import pandas as pd\n",
    "import matplotlib.pyplot as plt\n",
    "import seaborn as sns\n",
    "from datetime import datetime"
   ]
  },
  {
   "cell_type": "code",
   "execution_count": 14,
   "metadata": {},
   "outputs": [],
   "source": [
    "time_list=[\n",
    "    \"H30.5.1\",\n",
    "    \"R02.1.1\",\n",
    "    \"S02.3.1\",\n",
    "    \"平成30.5.1\",\n",
    "    \"令和02.1.1\",\n",
    "    \"昭和02.3.1\",\n",
    "    \"昭和02/5/1\",\n",
    "]"
   ]
  },
  {
   "cell_type": "code",
   "execution_count": 18,
   "metadata": {},
   "outputs": [],
   "source": [
    "def convert_to_wareki(str_hymd):\n",
    "    if \".\" in str_hymd:\n",
    "        str_list = str_hymd.split(\".\")\n",
    "    elif \"/\" in  str_hymd:\n",
    "        str_list = str_hymd.split(\"/\")\n",
    "        \n",
    "    end = 2\n",
    "    if str_list[0][1:].isdecimal():\n",
    "        end=1\n",
    "    h=str_list[0][0:end]\n",
    "    y=int(str_list[0][end:])-1\n",
    "    m=int(str_list[1])\n",
    "    d=int(str_list[2])\n",
    "    \n",
    "    WAREKI_START = {\n",
    "        'R': 2019,\n",
    "        'H': 1989,\n",
    "        'S': 1926,\n",
    "        '令和': 2019,\n",
    "        '平成': 1989,\n",
    "        '昭和': 1926,\n",
    "    }\n",
    "    \n",
    "    if not (h in WAREKI_START.keys()):\n",
    "        print(\"{0} is none\".format(h))\n",
    "        return False\n",
    "    return datetime(WAREKI_START[h]+y,m,d)"
   ]
  },
  {
   "cell_type": "code",
   "execution_count": 19,
   "metadata": {},
   "outputs": [
    {
     "name": "stdout",
     "output_type": "stream",
     "text": [
      "H30.5.1\n",
      "2018-05-01 00:00:00\n",
      "R02.1.1\n",
      "2020-01-01 00:00:00\n",
      "S02.3.1\n",
      "1927-03-01 00:00:00\n",
      "平成30.5.1\n",
      "2018-05-01 00:00:00\n",
      "令和02.1.1\n",
      "2020-01-01 00:00:00\n",
      "昭和02.3.1\n",
      "1927-03-01 00:00:00\n",
      "昭和02/5/1\n",
      "1927-05-01 00:00:00\n"
     ]
    }
   ],
   "source": [
    "for t in time_list:\n",
    "    print(t)\n",
    "    print(convert_to_wareki(t))"
   ]
  }
 ],
 "metadata": {
  "kernelspec": {
   "display_name": "Environment (conda_anaconda3)",
   "language": "python",
   "name": "conda_anaconda3"
  },
  "language_info": {
   "codemirror_mode": {
    "name": "ipython",
    "version": 3
   },
   "file_extension": ".py",
   "mimetype": "text/x-python",
   "name": "python",
   "nbconvert_exporter": "python",
   "pygments_lexer": "ipython3",
   "version": "3.6.6"
  }
 },
 "nbformat": 4,
 "nbformat_minor": 2
}
